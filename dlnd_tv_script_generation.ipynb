{
 "cells": [
  {
   "cell_type": "markdown",
   "metadata": {
    "deletable": true,
    "editable": true
   },
   "source": [
    "# TV Script Generation\n",
    "In this project, you'll generate your own [Simpsons](https://en.wikipedia.org/wiki/The_Simpsons) TV scripts using RNNs.  You'll be using part of the [Simpsons dataset](https://www.kaggle.com/wcukierski/the-simpsons-by-the-data) of scripts from 27 seasons.  The Neural Network you'll build will generate a new TV script for a scene at [Moe's Tavern](https://simpsonswiki.com/wiki/Moe's_Tavern).\n",
    "## Get the Data\n",
    "The data is already provided for you.  You'll be using a subset of the original dataset.  It consists of only the scenes in Moe's Tavern.  This doesn't include other versions of the tavern, like \"Moe's Cavern\", \"Flaming Moe's\", \"Uncle Moe's Family Feed-Bag\", etc.."
   ]
  },
  {
   "cell_type": "code",
   "execution_count": 1,
   "metadata": {
    "collapsed": false,
    "deletable": true,
    "editable": true
   },
   "outputs": [],
   "source": [
    "\"\"\"\n",
    "DON'T MODIFY ANYTHING IN THIS CELL\n",
    "\"\"\"\n",
    "import helper\n",
    "\n",
    "data_dir = './data/simpsons/moes_tavern_lines.txt'\n",
    "text = helper.load_data(data_dir)\n",
    "# Ignore notice, since we don't use it for analysing the data\n",
    "text = text[81:]"
   ]
  },
  {
   "cell_type": "markdown",
   "metadata": {
    "deletable": true,
    "editable": true
   },
   "source": [
    "## Explore the Data\n",
    "Play around with `view_sentence_range` to view different parts of the data."
   ]
  },
  {
   "cell_type": "code",
   "execution_count": 2,
   "metadata": {
    "collapsed": false,
    "deletable": true,
    "editable": true
   },
   "outputs": [
    {
     "name": "stdout",
     "output_type": "stream",
     "text": [
      "Dataset Stats\n",
      "Roughly the number of unique words: 11492\n",
      "Number of scenes: 262\n",
      "Average number of sentences in each scene: 15.248091603053435\n",
      "Number of lines: 4257\n",
      "Average number of words in each line: 11.50434578341555\n",
      "\n",
      "The sentences 0 to 10:\n",
      "Moe_Szyslak: (INTO PHONE) Moe's Tavern. Where the elite meet to drink.\n",
      "Bart_Simpson: Eh, yeah, hello, is Mike there? Last name, Rotch.\n",
      "Moe_Szyslak: (INTO PHONE) Hold on, I'll check. (TO BARFLIES) Mike Rotch. Mike Rotch. Hey, has anybody seen Mike Rotch, lately?\n",
      "Moe_Szyslak: (INTO PHONE) Listen you little puke. One of these days I'm gonna catch you, and I'm gonna carve my name on your back with an ice pick.\n",
      "Moe_Szyslak: What's the matter Homer? You're not your normal effervescent self.\n",
      "Homer_Simpson: I got my problems, Moe. Give me another one.\n",
      "Moe_Szyslak: Homer, hey, you should not drink to forget your problems.\n",
      "Barney_Gumble: Yeah, you should only drink to enhance your social skills.\n",
      "\n",
      "\n"
     ]
    }
   ],
   "source": [
    "view_sentence_range = (0, 10)\n",
    "\n",
    "\"\"\"\n",
    "DON'T MODIFY ANYTHING IN THIS CELL\n",
    "\"\"\"\n",
    "import numpy as np\n",
    "\n",
    "print('Dataset Stats')\n",
    "print('Roughly the number of unique words: {}'.format(len({word: None for word in text.split()})))\n",
    "scenes = text.split('\\n\\n')\n",
    "print('Number of scenes: {}'.format(len(scenes)))\n",
    "sentence_count_scene = [scene.count('\\n') for scene in scenes]\n",
    "print('Average number of sentences in each scene: {}'.format(np.average(sentence_count_scene)))\n",
    "\n",
    "sentences = [sentence for scene in scenes for sentence in scene.split('\\n')]\n",
    "print('Number of lines: {}'.format(len(sentences)))\n",
    "word_count_sentence = [len(sentence.split()) for sentence in sentences]\n",
    "print('Average number of words in each line: {}'.format(np.average(word_count_sentence)))\n",
    "\n",
    "print()\n",
    "print('The sentences {} to {}:'.format(*view_sentence_range))\n",
    "print('\\n'.join(text.split('\\n')[view_sentence_range[0]:view_sentence_range[1]]))"
   ]
  },
  {
   "cell_type": "markdown",
   "metadata": {
    "deletable": true,
    "editable": true
   },
   "source": [
    "## Implement Preprocessing Functions\n",
    "The first thing to do to any dataset is preprocessing.  Implement the following preprocessing functions below:\n",
    "- Lookup Table\n",
    "- Tokenize Punctuation\n",
    "\n",
    "### Lookup Table\n",
    "To create a word embedding, you first need to transform the words to ids.  In this function, create two dictionaries:\n",
    "- Dictionary to go from the words to an id, we'll call `vocab_to_int`\n",
    "- Dictionary to go from the id to word, we'll call `int_to_vocab`\n",
    "\n",
    "Return these dictionaries in the following tuple `(vocab_to_int, int_to_vocab)`"
   ]
  },
  {
   "cell_type": "code",
   "execution_count": 3,
   "metadata": {
    "collapsed": false,
    "deletable": true,
    "editable": true
   },
   "outputs": [
    {
     "name": "stdout",
     "output_type": "stream",
     "text": [
      "Tests Passed\n"
     ]
    }
   ],
   "source": [
    "import numpy as np\n",
    "from collections import Counter\n",
    "import problem_unittests as tests\n",
    "\n",
    "def create_lookup_tables(text):\n",
    "    \"\"\"\n",
    "    Create lookup tables for vocabulary\n",
    "    :param text: The text of tv scripts split into words\n",
    "    :return: A tuple of dicts (vocab_to_int, int_to_vocab)\n",
    "    \"\"\"\n",
    "    words = Counter(text)\n",
    "    vocab = sorted(words, key = words.get, reverse = True)\n",
    "    int_to_vocab = {i: word for i, word in enumerate(vocab)} \n",
    "    vocab_to_int = {word: i for i, word in int_to_vocab.items()}\n",
    "    \n",
    "    return vocab_to_int, int_to_vocab\n",
    "\n",
    "\n",
    "\"\"\"\n",
    "DON'T MODIFY ANYTHING IN THIS CELL THAT IS BELOW THIS LINE\n",
    "\"\"\"\n",
    "tests.test_create_lookup_tables(create_lookup_tables)"
   ]
  },
  {
   "cell_type": "markdown",
   "metadata": {
    "deletable": true,
    "editable": true
   },
   "source": [
    "### Tokenize Punctuation\n",
    "We'll be splitting the script into a word array using spaces as delimiters.  However, punctuations like periods and exclamation marks make it hard for the neural network to distinguish between the word \"bye\" and \"bye!\".\n",
    "\n",
    "Implement the function `token_lookup` to return a dict that will be used to tokenize symbols like \"!\" into \"||Exclamation_Mark||\".  Create a dictionary for the following symbols where the symbol is the key and value is the token:\n",
    "- Period ( . )\n",
    "- Comma ( , )\n",
    "- Quotation Mark ( \" )\n",
    "- Semicolon ( ; )\n",
    "- Exclamation mark ( ! )\n",
    "- Question mark ( ? )\n",
    "- Left Parentheses ( ( )\n",
    "- Right Parentheses ( ) )\n",
    "- Dash ( -- )\n",
    "- Return ( \\n )\n",
    "\n",
    "This dictionary will be used to token the symbols and add the delimiter (space) around it.  This separates the symbols as it's own word, making it easier for the neural network to predict on the next word. Make sure you don't use a token that could be confused as a word. Instead of using the token \"dash\", try using something like \"||dash||\"."
   ]
  },
  {
   "cell_type": "code",
   "execution_count": 4,
   "metadata": {
    "collapsed": false,
    "deletable": true,
    "editable": true
   },
   "outputs": [
    {
     "name": "stdout",
     "output_type": "stream",
     "text": [
      "Tests Passed\n"
     ]
    }
   ],
   "source": [
    "def token_lookup():\n",
    "    \"\"\"\n",
    "    Generate a dict to turn punctuation into a token.\n",
    "    :return: Tokenize dictionary where the key is the punctuation and the value is the token\n",
    "    \"\"\"\n",
    "    tokens = {\n",
    "              \".\" : \"||period||\",\n",
    "              \",\" : \"||comma||\",\n",
    "              \"\\\"\" : \"||quotationmark||\",\n",
    "              \";\" : \"||semicolon||\",\n",
    "              \"!\" : \"||exclamationmark||\",\n",
    "              \"?\" : \"||questionmark||\",\n",
    "              \"(\" : \"||leftparentheses||\",\n",
    "              \")\" : \"||rightparentheses||\",\n",
    "              \"--\" : \"||dash||\",\n",
    "              \"\\n\" : \"||return||\"\n",
    "             }\n",
    "    #tokens = {x : i for x , i in t}\n",
    "    return tokens\n",
    "\n",
    "\"\"\"\n",
    "DON'T MODIFY ANYTHING IN THIS CELL THAT IS BELOW THIS LINE\n",
    "\"\"\"\n",
    "tests.test_tokenize(token_lookup)"
   ]
  },
  {
   "cell_type": "markdown",
   "metadata": {
    "deletable": true,
    "editable": true
   },
   "source": [
    "## Preprocess all the data and save it\n",
    "Running the code cell below will preprocess all the data and save it to file."
   ]
  },
  {
   "cell_type": "code",
   "execution_count": 5,
   "metadata": {
    "collapsed": false,
    "deletable": true,
    "editable": true
   },
   "outputs": [],
   "source": [
    "\"\"\"\n",
    "DON'T MODIFY ANYTHING IN THIS CELL\n",
    "\"\"\"\n",
    "# Preprocess Training, Validation, and Testing Data\n",
    "helper.preprocess_and_save_data(data_dir, token_lookup, create_lookup_tables)"
   ]
  },
  {
   "cell_type": "markdown",
   "metadata": {
    "deletable": true,
    "editable": true
   },
   "source": [
    "# Check Point\n",
    "This is your first checkpoint. If you ever decide to come back to this notebook or have to restart the notebook, you can start from here. The preprocessed data has been saved to disk."
   ]
  },
  {
   "cell_type": "code",
   "execution_count": 6,
   "metadata": {
    "collapsed": false,
    "deletable": true,
    "editable": true
   },
   "outputs": [],
   "source": [
    "\"\"\"\n",
    "DON'T MODIFY ANYTHING IN THIS CELL\n",
    "\"\"\"\n",
    "import helper\n",
    "import numpy as np\n",
    "import problem_unittests as tests\n",
    "\n",
    "int_text, vocab_to_int, int_to_vocab, token_dict = helper.load_preprocess()"
   ]
  },
  {
   "cell_type": "markdown",
   "metadata": {
    "deletable": true,
    "editable": true
   },
   "source": [
    "## Build the Neural Network\n",
    "You'll build the components necessary to build a RNN by implementing the following functions below:\n",
    "- get_inputs\n",
    "- get_init_cell\n",
    "- get_embed\n",
    "- build_rnn\n",
    "- build_nn\n",
    "- get_batches\n",
    "\n",
    "### Check the Version of TensorFlow and Access to GPU"
   ]
  },
  {
   "cell_type": "code",
   "execution_count": 101,
   "metadata": {
    "collapsed": false,
    "deletable": true,
    "editable": true
   },
   "outputs": [
    {
     "name": "stdout",
     "output_type": "stream",
     "text": [
      "TensorFlow Version: 1.0.0\n",
      "Default GPU Device: /gpu:0\n"
     ]
    }
   ],
   "source": [
    "\"\"\"\n",
    "DON'T MODIFY ANYTHING IN THIS CELL\n",
    "\"\"\"\n",
    "from distutils.version import LooseVersion\n",
    "import warnings\n",
    "import tensorflow as tf\n",
    "\n",
    "# Check TensorFlow Version\n",
    "assert LooseVersion(tf.__version__) >= LooseVersion('1.0'), 'Please use TensorFlow version 1.0 or newer'\n",
    "print('TensorFlow Version: {}'.format(tf.__version__))\n",
    "\n",
    "# Check for a GPU\n",
    "if not tf.test.gpu_device_name():\n",
    "    warnings.warn('No GPU found. Please use a GPU to train your neural network.')\n",
    "else:\n",
    "    print('Default GPU Device: {}'.format(tf.test.gpu_device_name()))"
   ]
  },
  {
   "cell_type": "markdown",
   "metadata": {
    "deletable": true,
    "editable": true
   },
   "source": [
    "### Input\n",
    "Implement the `get_inputs()` function to create TF Placeholders for the Neural Network.  It should create the following placeholders:\n",
    "- Input text placeholder named \"input\" using the [TF Placeholder](https://www.tensorflow.org/api_docs/python/tf/placeholder) `name` parameter.\n",
    "- Targets placeholder\n",
    "- Learning Rate placeholder\n",
    "\n",
    "Return the placeholders in the following the tuple `(Input, Targets, LearingRate)`"
   ]
  },
  {
   "cell_type": "code",
   "execution_count": 102,
   "metadata": {
    "collapsed": false,
    "deletable": true,
    "editable": true
   },
   "outputs": [
    {
     "name": "stdout",
     "output_type": "stream",
     "text": [
      "Tests Passed\n"
     ]
    }
   ],
   "source": [
    "def get_inputs():\n",
    "    \"\"\"\n",
    "    Create TF Placeholders for input, targets, and learning rate.\n",
    "    :return: Tuple (input, targets, learning rate)\n",
    "    \"\"\"\n",
    "    inputs = tf.placeholder(tf.int32, [None, None], name = \"input\")\n",
    "    targets = tf.placeholder(tf.int32, [None, None], name = \"target\")\n",
    "    learning_rate = tf.placeholder(tf.float32, name = \"learning_rate\")\n",
    "    return inputs, targets, learning_rate\n",
    "\n",
    "\n",
    "\"\"\"\n",
    "DON'T MODIFY ANYTHING IN THIS CELL THAT IS BELOW THIS LINE\n",
    "\"\"\"\n",
    "tests.test_get_inputs(get_inputs)"
   ]
  },
  {
   "cell_type": "markdown",
   "metadata": {
    "deletable": true,
    "editable": true
   },
   "source": [
    "### Build RNN Cell and Initialize\n",
    "Stack one or more [`BasicLSTMCells`](https://www.tensorflow.org/api_docs/python/tf/contrib/rnn/BasicLSTMCell) in a [`MultiRNNCell`](https://www.tensorflow.org/api_docs/python/tf/contrib/rnn/MultiRNNCell).\n",
    "- The Rnn size should be set using `rnn_size`\n",
    "- Initalize Cell State using the MultiRNNCell's [`zero_state()`](https://www.tensorflow.org/api_docs/python/tf/contrib/rnn/MultiRNNCell#zero_state) function\n",
    "    - Apply the name \"initial_state\" to the initial state using [`tf.identity()`](https://www.tensorflow.org/api_docs/python/tf/identity)\n",
    "\n",
    "Return the cell and initial state in the following tuple `(Cell, InitialState)`"
   ]
  },
  {
   "cell_type": "code",
   "execution_count": 103,
   "metadata": {
    "collapsed": false,
    "deletable": true,
    "editable": true
   },
   "outputs": [
    {
     "name": "stdout",
     "output_type": "stream",
     "text": [
      "Tests Passed\n"
     ]
    }
   ],
   "source": [
    "def get_init_cell(batch_size, rnn_size):\n",
    "    \"\"\"\n",
    "    Create an RNN Cell and initialize it.\n",
    "    :param batch_size: Size of batches\n",
    "    :param rnn_size: Size of RNNs\n",
    "    :return: Tuple (cell, initialize state)\n",
    "    \"\"\"\n",
    "    lstm = tf.contrib.rnn.BasicLSTMCell(rnn_size)\n",
    "    cell = tf.contrib.rnn.MultiRNNCell([lstm] * 2)\n",
    "    initial_state = tf.identity(cell.zero_state(batch_size, tf.float32), name = \"initial_state\")\n",
    "    return cell, initial_state\n",
    "\n",
    "\n",
    "\"\"\"\n",
    "DON'T MODIFY ANYTHING IN THIS CELL THAT IS BELOW THIS LINE\n",
    "\"\"\"\n",
    "tests.test_get_init_cell(get_init_cell)"
   ]
  },
  {
   "cell_type": "markdown",
   "metadata": {
    "deletable": true,
    "editable": true
   },
   "source": [
    "### Word Embedding\n",
    "Apply embedding to `input_data` using TensorFlow.  Return the embedded sequence."
   ]
  },
  {
   "cell_type": "code",
   "execution_count": 104,
   "metadata": {
    "collapsed": false,
    "deletable": true,
    "editable": true
   },
   "outputs": [
    {
     "name": "stdout",
     "output_type": "stream",
     "text": [
      "Tests Passed\n"
     ]
    }
   ],
   "source": [
    "def get_embed(input_data, vocab_size, embed_dim):\n",
    "    \"\"\"\n",
    "    Create embedding for <input_data>.\n",
    "    :param input_data: TF placeholder for text input.\n",
    "    :param vocab_size: Number of words in vocabulary.\n",
    "    :param embed_dim: Number of embedding dimensions\n",
    "    :return: Embedded input.\n",
    "    \"\"\"\n",
    "    embedding = tf.Variable(tf.truncated_normal((vocab_size, embed_dim), mean = 0,stddev= 0.1))\n",
    "    embed = tf.nn.embedding_lookup(embedding, input_data)\n",
    "    return embed\n",
    "\n",
    "\n",
    "\"\"\"\n",
    "DON'T MODIFY ANYTHING IN THIS CELL THAT IS BELOW THIS LINE\n",
    "\"\"\"\n",
    "tests.test_get_embed(get_embed)"
   ]
  },
  {
   "cell_type": "markdown",
   "metadata": {
    "deletable": true,
    "editable": true
   },
   "source": [
    "### Build RNN\n",
    "You created a RNN Cell in the `get_init_cell()` function.  Time to use the cell to create a RNN.\n",
    "- Build the RNN using the [`tf.nn.dynamic_rnn()`](https://www.tensorflow.org/api_docs/python/tf/nn/dynamic_rnn)\n",
    " - Apply the name \"final_state\" to the final state using [`tf.identity()`](https://www.tensorflow.org/api_docs/python/tf/identity)\n",
    "\n",
    "Return the outputs and final_state state in the following tuple `(Outputs, FinalState)` "
   ]
  },
  {
   "cell_type": "code",
   "execution_count": 105,
   "metadata": {
    "collapsed": false,
    "deletable": true,
    "editable": true
   },
   "outputs": [
    {
     "name": "stdout",
     "output_type": "stream",
     "text": [
      "Tests Passed\n"
     ]
    }
   ],
   "source": [
    "def build_rnn(cell, inputs):\n",
    "    \"\"\"\n",
    "    Create a RNN using a RNN Cell\n",
    "    :param cell: RNN Cell\n",
    "    :param inputs: Input text data\n",
    "    :return: Tuple (Outputs, Final State)\n",
    "    \"\"\"\n",
    "    outputs, final_state = tf.nn.dynamic_rnn(cell, inputs, initial_state = None, dtype=tf.float32)\n",
    "    final_state = tf.identity(final_state, name = \"final_state\")\n",
    "    return outputs, final_state\n",
    "\n",
    "\n",
    "\"\"\"\n",
    "DON'T MODIFY ANYTHING IN THIS CELL THAT IS BELOW THIS LINE\n",
    "\"\"\"\n",
    "tests.test_build_rnn(build_rnn)"
   ]
  },
  {
   "cell_type": "markdown",
   "metadata": {
    "deletable": true,
    "editable": true
   },
   "source": [
    "### Build the Neural Network\n",
    "Apply the functions you implemented above to:\n",
    "- Apply embedding to `input_data` using your `get_embed(input_data, vocab_size, embed_dim)` function.\n",
    "- Build RNN using `cell` and your `build_rnn(cell, inputs)` function.\n",
    "- Apply a fully connected layer with a linear activation and `vocab_size` as the number of outputs.\n",
    "\n",
    "Return the logits and final state in the following tuple (Logits, FinalState) "
   ]
  },
  {
   "cell_type": "code",
   "execution_count": 106,
   "metadata": {
    "collapsed": false,
    "deletable": true,
    "editable": true
   },
   "outputs": [
    {
     "name": "stdout",
     "output_type": "stream",
     "text": [
      "Tests Passed\n"
     ]
    }
   ],
   "source": [
    "def build_nn(cell, rnn_size, input_data, vocab_size):\n",
    "    \"\"\"\n",
    "    Build part of the neural network\n",
    "    :param cell: RNN cell\n",
    "    :param rnn_size: Size of rnns\n",
    "    :param input_data: Input data\n",
    "    :param vocab_size: Vocabulary size\n",
    "    :return: Tuple (Logits, FinalState)\n",
    "    \"\"\"\n",
    "    embed_inputs = get_embed(input_data, vocab_size, rnn_size)\n",
    "    outputs, final_state = build_rnn(cell, embed_inputs)\n",
    "    #outputs = tf.reshape(outputs,[-1, rnn_size])\n",
    "    \n",
    "    \n",
    "    logits = tf.contrib.layers.fully_connected(outputs, vocab_size, activation_fn=None) \n",
    "    \n",
    "    return logits, final_state\n",
    "\n",
    "\n",
    "\"\"\"\n",
    "DON'T MODIFY ANYTHING IN THIS CELL THAT IS BELOW THIS LINE\n",
    "\"\"\"\n",
    "tests.test_build_nn(build_nn)"
   ]
  },
  {
   "cell_type": "markdown",
   "metadata": {
    "deletable": true,
    "editable": true
   },
   "source": [
    "### Batches\n",
    "Implement `get_batches` to create batches of input and targets using `int_text`.  The batches should be a Numpy array with the shape `(number of batches, 2, batch size, sequence length)`. Each batch contains two elements:\n",
    "- The first element is a single batch of **input** with the shape `[batch size, sequence length]`\n",
    "- The second element is a single batch of **targets** with the shape `[batch size, sequence length]`\n",
    "\n",
    "If you can't fill the last batch with enough data, drop the last batch.\n",
    "\n",
    "For exmple, `get_batches([1, 2, 3, 4, 5, 6, 7, 8, 9, 10, 11, 12, 13, 14, 15], 2, 3)` would return a Numpy array of the following:\n",
    "```\n",
    "[\n",
    "  # First Batch\n",
    "  [\n",
    "    # Batch of Input\n",
    "    [[ 1  2  3], [ 7  8  9]],\n",
    "    # Batch of targets\n",
    "    [[ 2  3  4], [ 8  9 10]]\n",
    "  ],\n",
    " \n",
    "  # Second Batch\n",
    "  [\n",
    "    # Batch of Input\n",
    "    [[ 4  5  6], [10 11 12]],\n",
    "    # Batch of targets\n",
    "    [[ 5  6  7], [11 12 13]]\n",
    "  ]\n",
    "]\n",
    "```"
   ]
  },
  {
   "cell_type": "code",
   "execution_count": 107,
   "metadata": {
    "collapsed": false,
    "deletable": true,
    "editable": true
   },
   "outputs": [
    {
     "name": "stdout",
     "output_type": "stream",
     "text": [
      "Tests Passed\n"
     ]
    }
   ],
   "source": [
    "def get_batches(int_text, batch_size, seq_length):\n",
    "    \"\"\"\n",
    "    Return batches of input and target\n",
    "    :param int_text: Text with the words replaced by their ids\n",
    "    :param batch_size: The size of batch\n",
    "    :param seq_length: The length of sequence\n",
    "    :return: Batches as a Numpy array\n",
    "    \"\"\"\n",
    "    \n",
    "    n_batches = int(len(int_text) / (batch_size * seq_length))\n",
    "\n",
    "    x = np.array(int_text[: n_batches * batch_size * seq_length])\n",
    "    y = np.array(int_text[1: n_batches * batch_size * seq_length + 1])\n",
    "\n",
    "    inputs = np.split(x.reshape(batch_size, -1), n_batches, 1)\n",
    "    targets = np.split(y.reshape(batch_size, -1), n_batches, 1)\n",
    "\n",
    "    return np.array(list(zip(inputs,targets)))\n",
    "\n",
    "\"\"\"\n",
    "DON'T MODIFY ANYTHING IN THIS CELL THAT IS BELOW THIS LINE\n",
    "\"\"\"\n",
    "tests.test_get_batches(get_batches)"
   ]
  },
  {
   "cell_type": "markdown",
   "metadata": {
    "deletable": true,
    "editable": true
   },
   "source": [
    "## Neural Network Training\n",
    "### Hyperparameters\n",
    "Tune the following parameters:\n",
    "\n",
    "- Set `num_epochs` to the number of epochs.\n",
    "- Set `batch_size` to the batch size.\n",
    "- Set `rnn_size` to the size of the RNNs.\n",
    "- Set `seq_length` to the length of sequence.\n",
    "- Set `learning_rate` to the learning rate.\n",
    "- Set `show_every_n_batches` to the number of batches the neural network should print progress."
   ]
  },
  {
   "cell_type": "code",
   "execution_count": 111,
   "metadata": {
    "collapsed": true,
    "deletable": true,
    "editable": true
   },
   "outputs": [],
   "source": [
    "# Number of Epochs\n",
    "num_epochs = 1000\n",
    "# Batch Size\n",
    "batch_size = 256\n",
    "# RNN Size\n",
    "rnn_size = 256\n",
    "# Sequence Length\n",
    "seq_length = 100\n",
    "# Learning Rate\n",
    "learning_rate = 0.01\n",
    "# Show stats for every n number of batches\n",
    "show_every_n_batches = 10\n",
    "\n",
    "\"\"\"\n",
    "DON'T MODIFY ANYTHING IN THIS CELL THAT IS BELOW THIS LINE\n",
    "\"\"\"\n",
    "save_dir = './save'"
   ]
  },
  {
   "cell_type": "markdown",
   "metadata": {
    "deletable": true,
    "editable": true
   },
   "source": [
    "### Build the Graph\n",
    "Build the graph using the neural network you implemented."
   ]
  },
  {
   "cell_type": "code",
   "execution_count": 109,
   "metadata": {
    "collapsed": false,
    "deletable": true,
    "editable": true
   },
   "outputs": [],
   "source": [
    "\"\"\"\n",
    "DON'T MODIFY ANYTHING IN THIS CELL\n",
    "\"\"\"\n",
    "from tensorflow.contrib import seq2seq\n",
    "\n",
    "train_graph = tf.Graph()\n",
    "with train_graph.as_default():\n",
    "    vocab_size = len(int_to_vocab)\n",
    "    input_text, targets, lr = get_inputs()\n",
    "    input_data_shape = tf.shape(input_text)\n",
    "    cell, initial_state = get_init_cell(input_data_shape[0], rnn_size)\n",
    "    logits, final_state = build_nn(cell, rnn_size, input_text, vocab_size)\n",
    "\n",
    "    # Probabilities for generating words\n",
    "    probs = tf.nn.softmax(logits, name='probs')\n",
    "\n",
    "    # Loss function\n",
    "    cost = seq2seq.sequence_loss(\n",
    "        logits,\n",
    "        targets,\n",
    "        tf.ones([input_data_shape[0], input_data_shape[1]]))\n",
    "\n",
    "    # Optimizer\n",
    "    optimizer = tf.train.AdamOptimizer(lr)\n",
    "\n",
    "    # Gradient Clipping\n",
    "    gradients = optimizer.compute_gradients(cost)\n",
    "    capped_gradients = [(tf.clip_by_value(grad, -1., 1.), var) for grad, var in gradients]\n",
    "    train_op = optimizer.apply_gradients(capped_gradients)"
   ]
  },
  {
   "cell_type": "markdown",
   "metadata": {
    "deletable": true,
    "editable": true
   },
   "source": [
    "## Train\n",
    "Train the neural network on the preprocessed data.  If you have a hard time getting a good loss, check the [forms](https://discussions.udacity.com/) to see if anyone is having the same problem."
   ]
  },
  {
   "cell_type": "code",
   "execution_count": 110,
   "metadata": {
    "collapsed": false,
    "deletable": true,
    "editable": true
   },
   "outputs": [
    {
     "name": "stdout",
     "output_type": "stream",
     "text": [
      "Epoch   0 Batch    0/2   train_loss = 8.821\n",
      "Epoch   5 Batch    0/2   train_loss = 5.992\n",
      "Epoch  10 Batch    0/2   train_loss = 5.915\n",
      "Epoch  15 Batch    0/2   train_loss = 5.876\n",
      "Epoch  20 Batch    0/2   train_loss = 5.870\n",
      "Epoch  25 Batch    0/2   train_loss = 5.864\n",
      "Epoch  30 Batch    0/2   train_loss = 5.860\n",
      "Epoch  35 Batch    0/2   train_loss = 5.866\n",
      "Epoch  40 Batch    0/2   train_loss = 5.858\n",
      "Epoch  45 Batch    0/2   train_loss = 5.859\n",
      "Epoch  50 Batch    0/2   train_loss = 5.857\n",
      "Epoch  55 Batch    0/2   train_loss = 5.856\n",
      "Epoch  60 Batch    0/2   train_loss = 5.860\n",
      "Epoch  65 Batch    0/2   train_loss = 5.833\n",
      "Epoch  70 Batch    0/2   train_loss = 5.721\n",
      "Epoch  75 Batch    0/2   train_loss = 5.619\n",
      "Epoch  80 Batch    0/2   train_loss = 5.545\n",
      "Epoch  85 Batch    0/2   train_loss = 5.485\n",
      "Epoch  90 Batch    0/2   train_loss = 5.434\n",
      "Epoch  95 Batch    0/2   train_loss = 5.371\n",
      "Epoch 100 Batch    0/2   train_loss = 5.287\n",
      "Epoch 105 Batch    0/2   train_loss = 5.086\n",
      "Epoch 110 Batch    0/2   train_loss = 4.898\n",
      "Epoch 115 Batch    0/2   train_loss = 4.722\n",
      "Epoch 120 Batch    0/2   train_loss = 4.518\n",
      "Epoch 125 Batch    0/2   train_loss = 4.346\n",
      "Epoch 130 Batch    0/2   train_loss = 4.198\n",
      "Epoch 135 Batch    0/2   train_loss = 4.072\n",
      "Epoch 140 Batch    0/2   train_loss = 3.910\n",
      "Epoch 145 Batch    0/2   train_loss = 3.795\n",
      "Epoch 150 Batch    0/2   train_loss = 3.635\n",
      "Epoch 155 Batch    0/2   train_loss = 3.490\n",
      "Epoch 160 Batch    0/2   train_loss = 3.398\n",
      "Epoch 165 Batch    0/2   train_loss = 3.275\n",
      "Epoch 170 Batch    0/2   train_loss = 3.135\n",
      "Epoch 175 Batch    0/2   train_loss = 3.037\n",
      "Epoch 180 Batch    0/2   train_loss = 2.977\n",
      "Epoch 185 Batch    0/2   train_loss = 2.825\n",
      "Epoch 190 Batch    0/2   train_loss = 2.707\n",
      "Epoch 195 Batch    0/2   train_loss = 2.644\n",
      "Epoch 200 Batch    0/2   train_loss = 2.569\n",
      "Epoch 205 Batch    0/2   train_loss = 2.437\n",
      "Epoch 210 Batch    0/2   train_loss = 2.330\n",
      "Epoch 215 Batch    0/2   train_loss = 2.274\n",
      "Epoch 220 Batch    0/2   train_loss = 2.200\n",
      "Epoch 225 Batch    0/2   train_loss = 2.083\n",
      "Epoch 230 Batch    0/2   train_loss = 2.020\n",
      "Epoch 235 Batch    0/2   train_loss = 1.998\n",
      "Epoch 240 Batch    0/2   train_loss = 1.879\n",
      "Epoch 245 Batch    0/2   train_loss = 1.840\n",
      "Epoch 250 Batch    0/2   train_loss = 1.744\n",
      "Epoch 255 Batch    0/2   train_loss = 1.671\n",
      "Epoch 260 Batch    0/2   train_loss = 1.612\n",
      "Epoch 265 Batch    0/2   train_loss = 1.544\n",
      "Epoch 270 Batch    0/2   train_loss = 1.496\n",
      "Epoch 275 Batch    0/2   train_loss = 1.453\n",
      "Epoch 280 Batch    0/2   train_loss = 1.383\n",
      "Epoch 285 Batch    0/2   train_loss = 1.313\n",
      "Epoch 290 Batch    0/2   train_loss = 1.279\n",
      "Epoch 295 Batch    0/2   train_loss = 1.242\n",
      "Epoch 300 Batch    0/2   train_loss = 1.195\n",
      "Epoch 305 Batch    0/2   train_loss = 1.123\n",
      "Epoch 310 Batch    0/2   train_loss = 1.063\n",
      "Epoch 315 Batch    0/2   train_loss = 1.204\n",
      "Epoch 320 Batch    0/2   train_loss = 1.039\n",
      "Epoch 325 Batch    0/2   train_loss = 0.953\n",
      "Epoch 330 Batch    0/2   train_loss = 0.893\n",
      "Epoch 335 Batch    0/2   train_loss = 0.918\n",
      "Epoch 340 Batch    0/2   train_loss = 0.834\n",
      "Epoch 345 Batch    0/2   train_loss = 0.788\n",
      "Epoch 350 Batch    0/2   train_loss = 0.780\n",
      "Epoch 355 Batch    0/2   train_loss = 0.784\n",
      "Epoch 360 Batch    0/2   train_loss = 0.703\n",
      "Epoch 365 Batch    0/2   train_loss = 0.654\n",
      "Epoch 370 Batch    0/2   train_loss = 0.679\n",
      "Epoch 375 Batch    0/2   train_loss = 0.615\n",
      "Epoch 380 Batch    0/2   train_loss = 0.575\n",
      "Epoch 385 Batch    0/2   train_loss = 0.549\n",
      "Epoch 390 Batch    0/2   train_loss = 0.557\n",
      "Epoch 395 Batch    0/2   train_loss = 0.523\n",
      "Epoch 400 Batch    0/2   train_loss = 0.480\n",
      "Epoch 405 Batch    0/2   train_loss = 0.446\n",
      "Epoch 410 Batch    0/2   train_loss = 0.444\n",
      "Epoch 415 Batch    0/2   train_loss = 0.452\n",
      "Epoch 420 Batch    0/2   train_loss = 0.421\n",
      "Epoch 425 Batch    0/2   train_loss = 0.391\n",
      "Epoch 430 Batch    0/2   train_loss = 0.357\n",
      "Epoch 435 Batch    0/2   train_loss = 0.335\n",
      "Epoch 440 Batch    0/2   train_loss = 0.318\n",
      "Epoch 445 Batch    0/2   train_loss = 0.315\n",
      "Epoch 450 Batch    0/2   train_loss = 0.303\n",
      "Epoch 455 Batch    0/2   train_loss = 0.399\n",
      "Epoch 460 Batch    0/2   train_loss = 0.357\n",
      "Epoch 465 Batch    0/2   train_loss = 0.303\n",
      "Epoch 470 Batch    0/2   train_loss = 0.265\n",
      "Epoch 475 Batch    0/2   train_loss = 0.242\n",
      "Epoch 480 Batch    0/2   train_loss = 0.225\n",
      "Epoch 485 Batch    0/2   train_loss = 0.212\n",
      "Epoch 490 Batch    0/2   train_loss = 0.201\n",
      "Epoch 495 Batch    0/2   train_loss = 0.191\n",
      "Epoch 500 Batch    0/2   train_loss = 0.188\n",
      "Epoch 505 Batch    0/2   train_loss = 0.180\n",
      "Epoch 510 Batch    0/2   train_loss = 0.167\n",
      "Epoch 515 Batch    0/2   train_loss = 0.158\n",
      "Epoch 520 Batch    0/2   train_loss = 0.151\n",
      "Epoch 525 Batch    0/2   train_loss = 0.144\n",
      "Epoch 530 Batch    0/2   train_loss = 0.139\n",
      "Epoch 535 Batch    0/2   train_loss = 0.134\n",
      "Epoch 540 Batch    0/2   train_loss = 0.128\n",
      "Epoch 545 Batch    0/2   train_loss = 0.121\n",
      "Epoch 550 Batch    0/2   train_loss = 0.114\n",
      "Epoch 555 Batch    0/2   train_loss = 0.109\n",
      "Epoch 560 Batch    0/2   train_loss = 0.104\n",
      "Epoch 565 Batch    0/2   train_loss = 0.100\n",
      "Epoch 570 Batch    0/2   train_loss = 0.098\n",
      "Epoch 575 Batch    0/2   train_loss = 0.094\n",
      "Epoch 580 Batch    0/2   train_loss = 0.090\n",
      "Epoch 585 Batch    0/2   train_loss = 0.086\n",
      "Epoch 590 Batch    0/2   train_loss = 0.082\n",
      "Epoch 595 Batch    0/2   train_loss = 0.078\n",
      "Epoch 600 Batch    0/2   train_loss = 0.075\n",
      "Epoch 605 Batch    0/2   train_loss = 0.072\n",
      "Epoch 610 Batch    0/2   train_loss = 0.070\n",
      "Epoch 615 Batch    0/2   train_loss = 0.067\n",
      "Epoch 620 Batch    0/2   train_loss = 0.064\n",
      "Epoch 625 Batch    0/2   train_loss = 0.062\n",
      "Epoch 630 Batch    0/2   train_loss = 0.060\n",
      "Epoch 635 Batch    0/2   train_loss = 0.058\n",
      "Epoch 640 Batch    0/2   train_loss = 0.057\n",
      "Epoch 645 Batch    0/2   train_loss = 0.055\n",
      "Epoch 650 Batch    0/2   train_loss = 0.053\n",
      "Epoch 655 Batch    0/2   train_loss = 0.051\n",
      "Epoch 660 Batch    0/2   train_loss = 0.050\n",
      "Epoch 665 Batch    0/2   train_loss = 0.048\n",
      "Epoch 670 Batch    0/2   train_loss = 0.048\n",
      "Epoch 675 Batch    0/2   train_loss = 0.046\n",
      "Epoch 680 Batch    0/2   train_loss = 0.044\n",
      "Epoch 685 Batch    0/2   train_loss = 0.043\n",
      "Epoch 690 Batch    0/2   train_loss = 0.042\n",
      "Epoch 695 Batch    0/2   train_loss = 0.041\n",
      "Epoch 700 Batch    0/2   train_loss = 0.040\n",
      "Epoch 705 Batch    0/2   train_loss = 0.039\n",
      "Epoch 710 Batch    0/2   train_loss = 0.038\n",
      "Epoch 715 Batch    0/2   train_loss = 0.037\n",
      "Epoch 720 Batch    0/2   train_loss = 0.037\n",
      "Epoch 725 Batch    0/2   train_loss = 0.042\n",
      "Epoch 730 Batch    0/2   train_loss = 5.372\n",
      "Epoch 735 Batch    0/2   train_loss = 3.030\n",
      "Epoch 740 Batch    0/2   train_loss = 1.800\n",
      "Epoch 745 Batch    0/2   train_loss = 1.254\n",
      "Epoch 750 Batch    0/2   train_loss = 1.020\n",
      "Epoch 755 Batch    0/2   train_loss = 0.822\n",
      "Epoch 760 Batch    0/2   train_loss = 0.695\n",
      "Epoch 765 Batch    0/2   train_loss = 0.606\n",
      "Epoch 770 Batch    0/2   train_loss = 0.571\n",
      "Epoch 775 Batch    0/2   train_loss = 0.536\n",
      "Epoch 780 Batch    0/2   train_loss = 0.474\n",
      "Epoch 785 Batch    0/2   train_loss = 0.419\n",
      "Epoch 790 Batch    0/2   train_loss = 0.381\n",
      "Epoch 795 Batch    0/2   train_loss = 0.353\n",
      "Epoch 800 Batch    0/2   train_loss = 0.347\n",
      "Epoch 805 Batch    0/2   train_loss = 0.318\n",
      "Epoch 810 Batch    0/2   train_loss = 0.290\n",
      "Epoch 815 Batch    0/2   train_loss = 0.269\n",
      "Epoch 820 Batch    0/2   train_loss = 0.250\n",
      "Epoch 825 Batch    0/2   train_loss = 0.236\n",
      "Epoch 830 Batch    0/2   train_loss = 0.231\n",
      "Epoch 835 Batch    0/2   train_loss = 0.217\n",
      "Epoch 840 Batch    0/2   train_loss = 0.201\n",
      "Epoch 845 Batch    0/2   train_loss = 0.189\n",
      "Epoch 850 Batch    0/2   train_loss = 0.177\n",
      "Epoch 855 Batch    0/2   train_loss = 0.171\n",
      "Epoch 860 Batch    0/2   train_loss = 0.163\n",
      "Epoch 865 Batch    0/2   train_loss = 0.154\n",
      "Epoch 870 Batch    0/2   train_loss = 0.145\n",
      "Epoch 875 Batch    0/2   train_loss = 0.138\n",
      "Epoch 880 Batch    0/2   train_loss = 0.130\n",
      "Epoch 885 Batch    0/2   train_loss = 0.124\n",
      "Epoch 890 Batch    0/2   train_loss = 0.117\n",
      "Epoch 895 Batch    0/2   train_loss = 0.111\n",
      "Epoch 900 Batch    0/2   train_loss = 0.106\n",
      "Epoch 905 Batch    0/2   train_loss = 0.102\n",
      "Epoch 910 Batch    0/2   train_loss = 0.098\n",
      "Epoch 915 Batch    0/2   train_loss = 0.093\n",
      "Epoch 920 Batch    0/2   train_loss = 0.089\n",
      "Epoch 925 Batch    0/2   train_loss = 0.085\n",
      "Epoch 930 Batch    0/2   train_loss = 0.081\n",
      "Epoch 935 Batch    0/2   train_loss = 0.078\n",
      "Epoch 940 Batch    0/2   train_loss = 0.075\n",
      "Epoch 945 Batch    0/2   train_loss = 0.072\n",
      "Epoch 950 Batch    0/2   train_loss = 0.070\n",
      "Epoch 955 Batch    0/2   train_loss = 0.067\n",
      "Epoch 960 Batch    0/2   train_loss = 0.065\n",
      "Epoch 965 Batch    0/2   train_loss = 0.063\n",
      "Epoch 970 Batch    0/2   train_loss = 0.061\n",
      "Epoch 975 Batch    0/2   train_loss = 0.059\n",
      "Epoch 980 Batch    0/2   train_loss = 0.057\n",
      "Epoch 985 Batch    0/2   train_loss = 0.056\n",
      "Epoch 990 Batch    0/2   train_loss = 0.054\n",
      "Epoch 995 Batch    0/2   train_loss = 0.052\n",
      "Model Trained and Saved\n"
     ]
    }
   ],
   "source": [
    "\"\"\"\n",
    "DON'T MODIFY ANYTHING IN THIS CELL\n",
    "\"\"\"\n",
    "batches = get_batches(int_text, batch_size, seq_length)\n",
    "\n",
    "with tf.Session(graph=train_graph) as sess:\n",
    "    sess.run(tf.global_variables_initializer())\n",
    "\n",
    "    for epoch_i in range(num_epochs):\n",
    "        state = sess.run(initial_state, {input_text: batches[0][0]})\n",
    "\n",
    "        for batch_i, (x, y) in enumerate(batches):\n",
    "            feed = {\n",
    "                input_text: x,\n",
    "                targets: y,\n",
    "                initial_state: state,\n",
    "                lr: learning_rate}\n",
    "            train_loss, state, _ = sess.run([cost, final_state, train_op], feed)\n",
    "\n",
    "            # Show every <show_every_n_batches> batches\n",
    "            if (epoch_i * len(batches) + batch_i) % show_every_n_batches == 0:\n",
    "                print('Epoch {:>3} Batch {:>4}/{}   train_loss = {:.3f}'.format(\n",
    "                    epoch_i,\n",
    "                    batch_i,\n",
    "                    len(batches),\n",
    "                    train_loss))\n",
    "\n",
    "    # Save Model\n",
    "    saver = tf.train.Saver()\n",
    "    saver.save(sess, save_dir)\n",
    "    print('Model Trained and Saved')"
   ]
  },
  {
   "cell_type": "markdown",
   "metadata": {
    "deletable": true,
    "editable": true
   },
   "source": [
    "## Save Parameters\n",
    "Save `seq_length` and `save_dir` for generating a new TV script."
   ]
  },
  {
   "cell_type": "code",
   "execution_count": 112,
   "metadata": {
    "collapsed": false,
    "deletable": true,
    "editable": true
   },
   "outputs": [],
   "source": [
    "\"\"\"\n",
    "DON'T MODIFY ANYTHING IN THIS CELL\n",
    "\"\"\"\n",
    "# Save parameters for checkpoint\n",
    "helper.save_params((seq_length, save_dir))"
   ]
  },
  {
   "cell_type": "markdown",
   "metadata": {
    "deletable": true,
    "editable": true
   },
   "source": [
    "# Checkpoint"
   ]
  },
  {
   "cell_type": "code",
   "execution_count": 113,
   "metadata": {
    "collapsed": false,
    "deletable": true,
    "editable": true
   },
   "outputs": [],
   "source": [
    "\"\"\"\n",
    "DON'T MODIFY ANYTHING IN THIS CELL\n",
    "\"\"\"\n",
    "import tensorflow as tf\n",
    "import numpy as np\n",
    "import helper\n",
    "import problem_unittests as tests\n",
    "\n",
    "_, vocab_to_int, int_to_vocab, token_dict = helper.load_preprocess()\n",
    "seq_length, load_dir = helper.load_params()"
   ]
  },
  {
   "cell_type": "markdown",
   "metadata": {
    "deletable": true,
    "editable": true
   },
   "source": [
    "## Implement Generate Functions\n",
    "### Get Tensors\n",
    "Get tensors from `loaded_graph` using the function [`get_tensor_by_name()`](https://www.tensorflow.org/api_docs/python/tf/Graph#get_tensor_by_name).  Get the tensors using the following names:\n",
    "- \"input:0\"\n",
    "- \"initial_state:0\"\n",
    "- \"final_state:0\"\n",
    "- \"probs:0\"\n",
    "\n",
    "Return the tensors in the following tuple `(InputTensor, InitialStateTensor, FinalStateTensor, ProbsTensor)` "
   ]
  },
  {
   "cell_type": "code",
   "execution_count": 114,
   "metadata": {
    "collapsed": false,
    "deletable": true,
    "editable": true
   },
   "outputs": [
    {
     "name": "stdout",
     "output_type": "stream",
     "text": [
      "Tests Passed\n"
     ]
    }
   ],
   "source": [
    "def get_tensors(loaded_graph):\n",
    "    \"\"\"\n",
    "    Get input, initial state, final state, and probabilities tensor from <loaded_graph>\n",
    "    :param loaded_graph: TensorFlow graph loaded from file\n",
    "    :return: Tuple (InputTensor, InitialStateTensor, FinalStateTensor, ProbsTensor)\n",
    "    \"\"\"\n",
    "    input_tensor = loaded_graph.get_tensor_by_name(name = \"input:0\")\n",
    "    initialstate_tensor = loaded_graph.get_tensor_by_name(name = \"initial_state:0\")\n",
    "    finalstate_tensor = loaded_graph.get_tensor_by_name(name = \"final_state:0\")\n",
    "    probs_tensor = loaded_graph.get_tensor_by_name(name = \"probs:0\")\n",
    "    \n",
    "    return input_tensor, initialstate_tensor, finalstate_tensor, probs_tensor\n",
    "\n",
    "\n",
    "\"\"\"\n",
    "DON'T MODIFY ANYTHING IN THIS CELL THAT IS BELOW THIS LINE\n",
    "\"\"\"\n",
    "tests.test_get_tensors(get_tensors)"
   ]
  },
  {
   "cell_type": "markdown",
   "metadata": {
    "deletable": true,
    "editable": true
   },
   "source": [
    "### Choose Word\n",
    "Implement the `pick_word()` function to select the next word using `probabilities`."
   ]
  },
  {
   "cell_type": "code",
   "execution_count": 115,
   "metadata": {
    "collapsed": false,
    "deletable": true,
    "editable": true
   },
   "outputs": [
    {
     "name": "stdout",
     "output_type": "stream",
     "text": [
      "Tests Passed\n"
     ]
    }
   ],
   "source": [
    "def pick_word(probabilities, int_to_vocab):\n",
    "    \"\"\"\n",
    "    Pick the next word in the generated text\n",
    "    :param probabilities: Probabilites of the next word\n",
    "    :param int_to_vocab: Dictionary of word ids as the keys and words as the values\n",
    "    :return: String of the predicted word\n",
    "    \"\"\"\n",
    "    return int_to_vocab.get(probabilities.argmax(axis=0))\n",
    "\n",
    "\n",
    "\"\"\"\n",
    "DON'T MODIFY ANYTHING IN THIS CELL THAT IS BELOW THIS LINE\n",
    "\"\"\"\n",
    "tests.test_pick_word(pick_word)"
   ]
  },
  {
   "cell_type": "markdown",
   "metadata": {
    "deletable": true,
    "editable": true
   },
   "source": [
    "## Generate TV Script\n",
    "This will generate the TV script for you.  Set `gen_length` to the length of TV script you want to generate."
   ]
  },
  {
   "cell_type": "code",
   "execution_count": 116,
   "metadata": {
    "collapsed": false,
    "deletable": true,
    "editable": true
   },
   "outputs": [
    {
     "name": "stdout",
     "output_type": "stream",
     "text": [
      "moe_szyslak:(into phone) moe's tavern. where the elite meet to drink.\n",
      "bart_simpson: eh, yeah, hello, is mike there? last name, rotch.\n",
      "moe_szyslak:(into phone) hold on, i'll check.(to barflies) mike rotch. mike rotch. hey, has anybody seen mike rotch, lately?\n",
      "moe_szyslak:(into phone) listen you little puke. one of these days i'm gonna catch you, and i'm gonna carve my name on your back with an ice pick.\n",
      "moe_szyslak: what's the ticket i like it.\n",
      "homer_simpson: me too?\n",
      "moe_szyslak: but what this is much much much much much much much to(raises glass in front of mouth) moe's i need to hear it.\n",
      "carl_carlson:(shrugs) hey, moe. i need a name that's right, moe.\n",
      "moe_szyslak: not you!\n",
      "homer_simpson:(incredulous) moe? it's i! / oh i'm, i'm going to guys.\n",
      "football_announcer: at me! i could forget my car is bring that back, moe.\n",
      "moe_szyslak:(to bears) someone's win to do up, or even believe that, and you'll just get drunk coming.\n",
      "moe_szyslak: ah, the thesaurus... when i wrote something more and dance up.\n",
      "homer_simpson: that was the best damn barney you was and dead. and is it? think, i'll give me a sixty percent for a vestigial tail will homer's not sober.\n",
      "barney_gumble:(singing) the thing much duff in the bar with a treat yellow lights. wait, homer. what have goin' with a heavyweight left to krusty) five days. uh, as what that wouldn't that gonna use your ivy-covered christmas i get your buttocks? we can combine the dna of work / he wouldn't turn back.\n",
      "moe_szyslak: hey, this was back before with that old man.\n",
      "sadistic_barfly: now i was me. i'm wasting the bar.\n",
      "lenny_leonard: he never stops punching...\"\n",
      "doug: aw, dad.(takes off hardhat)\n",
      "homer_simpson:(grunt) calf's in the bucks. sir, homer. go on, krusty. / goodbye i'll give like\" kid in the son too. that's as famous as five the bartender something-- and this isn't that old bucks about a\" gosh, can i come out of make hope they give him a good better!\n",
      "moe_szyslak: get his keys!\n",
      "homer_simpson:(drunk,\" i'm self of fights this bar) to you, bad.(swooning) the b....\n",
      "barney_gumble: hey, this is a crowbar!\n",
      "moe_szyslak: hey, homer, you're the greatest.\n",
      "moe_szyslak: that's right? but i gotta have something.\n",
      "kirk_van_houten: oh. you're surprised! look, the fans are weary of the house scout meeting.\n",
      "barney_gumble: is it?\n",
      "\n",
      "\n",
      "homer_simpson:(tipsy) you-need-man.. so, ah, i'm not lookin' to date.\n",
      "carl_carlson: right there!(shoots guns, friendly) well, homer. i've been polite open? i can't admit for a shot of me.\n",
      "moe_szyslak: yeah, all right, it's, you'd be disappointed in the championship.\n",
      "moe_szyslak:(to little man)\" dear(. and he's... a\" thorough inspection.\" m ago i'm the water fountain.\n",
      "homer_simpson:(singing) the one getting the house.\n",
      "homer_simpson: oh, marge will be with him.\n",
      "marge_simpson: okay. you're always moe.\n",
      "barney_gumble: eh, ah, hey, get him!\n",
      "moe_szyslak: and i wanna wipe out, i it. i have back beer or give him some other kid!\n",
      "moe_szyslak: okay, my measurements?\n",
      "bret: well, me too.\n",
      "homer_simpson: i wanna have no advice from an encore?. then it's a time machine.\n",
      "lenny_leonard: i did.\n",
      "homer_simpson: how do you think i felt? i'm talkin' about a lotta talkin' for a boat.\n",
      "lenny_leonard: oh, c'mon. i think you're supposed to be the big company. i mean.\n",
      "\n",
      "\n",
      "homer_simpson:(to barney) this isn't no more.\n",
      "barney_gumble: sure! if i like you sing right?!! uh my name sure.\n",
      "moe_szyslak:(shakes head murmur) i won't find like you.\n",
      "homer_simpson:(big exhale)\n",
      "moe_szyslak: so, it was... you're finally dea-d-d-dead.(whip crack) canyonero.\n",
      "homer_simpson:(extremely one) i'll give homer a beer!\n",
      "homer_simpson:(drunk) that's a parasol.\n",
      "homer_simpson: pfft! / yeah!\n",
      "moe_szyslak:(\" moe with me. but i have no collateral, why don't you go.! nooo! that it.\n",
      "\n",
      "\n",
      "homer_simpson:(laughs) aw, i'm sorry. i want to give a speech.\n",
      "stillwater: sorry, homer?\n",
      "homer_simpson:(gets an idea) actually homer.\n",
      "\n",
      "\n",
      "homer_simpson: moe, sorry.\n",
      "billy_the_kid: you!.. so wishes were fix... what would you as did you get money... here comes the darts... woo as you look good on the outside, but you still love me.\n",
      "homer_simpson:(still getting a sea are.\n",
      "moe_szyslak: you gotta do it was it.\n",
      "barney_gumble: aw, that's what chapter uncle! they're gonna get change!\n",
      "homer_simpson:(drunk) oh, just a good laugh, as is it, moe.\n",
      "moe_szyslak:(to ralph) phone? it's never. they got directions! i carl_carlson: you guys for you!\n",
      "moe_szyslak:(into phone) ah, hey, i'm not a time machine. when i say his good series. and what?\n",
      "homer_simpson: you know, i already something to be a c. o nice in) someone's win to so something no more...\n",
      "homer_simpson:(explaining)\" sure.(gasp)\n",
      "the graveyard and say is stupid bad!\n",
      "moe_szyslak: oh yeah? your greatest feat of my house here.\n",
      "\n",
      "\n",
      "moe_szyslak: wha?!\n",
      "carl_carlson: hey, well... homer, thanks, moe.\n",
      "\n",
      "\n",
      "moe_szyslak:(watching book) from the love on years.\n",
      "moe_szyslak: oh, ridin' the midnight beer. but moe, this license-- and this is a hundred and city all happened.(quickly) help me, homer. you can be spending my best damn who things the party boat has won my fastest to yellow pennies in a rough pipe.\n",
      "lenny_leonard: now everybody, as that!\n",
      "moe_szyslak:(quickly) oh,(tipsy) canyonero, marge...\"\n",
      "homer_simpson:(moans) i do it! fact go with the man who is that you want to focus for the game! from you, well. and you know we're right to you to go up.\n",
      "moe_szyslak:\" are you?\n",
      "moe_szyslak: hey, what's this?\n",
      "moe_szyslak: what's the word shall homer_simpson: no, that's one.\n",
      "homer_simpson: who's smithers, some first enabling.\n",
      "lenny_leonard: if i find this way is machine.\n",
      "moe_szyslak:(\") dad!\" absolutely and my poor bar.\n",
      "kent_brockman: or wishes.\n",
      "homer_simpson:(distraught) hey, there was a c. to drink. you do i look like, kid. if i'm gonna hand my money!\n",
      "moe_szyslak:(quietly) no more?\n",
      "barney_gumble: hey, hey, homer. wanna start with us.\n",
      "lenny_leonard: hey, homer, it's my friend...(bitter) but i haven't seen a little bit, krusty!\n",
      "homer_simpson: i shoulda camera) moe, this is a crowbar!\n",
      "moe_szyslak: hey, moe, you're the greatest.\n",
      "barney_gumble: man, not just doin' about a duff, of 'em.\n",
      "professor_jonathan_frink: say, but i'm not okay. no kids.\n",
      "krusty_the_clown:(enthusiastically) hey, hey, don't just the crank kid? moe. it was... give me fifty bucks!\n",
      "homer_simpson:(looks) i got all the kids.\n",
      "moe_szyslak:(clears throat) it is the woman-- can i eat them without you.\" it's great. to no turned us some. i know homer, but where who was a big girl has a game! homer, i gotta see! i swear!\n",
      "homer_simpson: well, chug-monkeys. what kind of fights this. give it to help you,\n",
      "homer_simpson:(grunt) he might have us.\n",
      "homer_simpson: no, it's not my blood. / hello?\n",
      "homer_simpson: oh, come on, but there's the soul of a beat) i'll respect.\n",
      "bart_simpson: uh-oh. my only friend no one hurts.\n",
      "\n",
      "\n",
      "moe_szyslak: ah, it's a second! oh, it's all free. maybe i did.\n",
      "homer_simpson:(? and get out) your voice to alter this place with it!\n",
      "moe_szyslak: homer, let me look at me? i'm attracted to another woman. what ya the woman.\n",
      "carl_carlson: come on, guys. but all right. this bashir kid is you.\n",
      "\n",
      "\n",
      "homer_simpson:(leans back, looks, hello?\n",
      "lenny_leonard: yeah, get outta here-- all right, moe... the last drink... moe? / yeah!\n",
      "homer_simpson: homer, marge... homer is, marge. absolutely no, if you still want to go.\n",
      "homer_simpson:(still reasonable) the thing is-- oof! ow!\n",
      "homer_simpson:(talk-sings) i stopped my crying / one of his kidneys.\n",
      "moe_szyslak: hey, what do you really have to drink that?\n",
      "lenny_leonard: devastated. what do we call to give some brandy around. / yeah.\" lisa's tavern. homer.\n",
      "\n",
      "\n",
      "lenny_leonard: hey, c'mon...\"\n",
      "homer_simpson:(shaking head) lenny, you do why it was worth that.\n",
      "\n",
      "\n",
      "moe_szyslak: what's my next time long thing.\n",
      "barney_gumble: but i understand. uh my god, not-- but, but not gorgeous. and this, i see a fictional tv getting innocent) love by appealing to a beer!.. that's, moe, marge.\n",
      "homer_simpson: it was gorgeous, moe. you came from my back fat!\n",
      "homer_simpson: boy, think you know i say.\n",
      "moe_szyslak: ah, yeah, all right, you're supposed to stand) whatcha was with his time are one drunk and we'll breakin' it to get all.\n",
      "barney_gumble: hey, hey, i'm gonna manage your boxing career, i guess i got a lot\n"
     ]
    }
   ],
   "source": [
    "gen_length = 2000\n",
    "# homer_simpson, moe_szyslak, or Barney_Gumble\n",
    "prime_word = 'moe_szyslak'\n",
    "\n",
    "\"\"\"\n",
    "DON'T MODIFY ANYTHING IN THIS CELL THAT IS BELOW THIS LINE\n",
    "\"\"\"\n",
    "loaded_graph = tf.Graph()\n",
    "with tf.Session(graph=loaded_graph) as sess:\n",
    "    # Load saved model\n",
    "    loader = tf.train.import_meta_graph(load_dir + '.meta')\n",
    "    loader.restore(sess, load_dir)\n",
    "\n",
    "    # Get Tensors from loaded model\n",
    "    input_text, initial_state, final_state, probs = get_tensors(loaded_graph)\n",
    "\n",
    "    # Sentences generation setup\n",
    "    gen_sentences = [prime_word + ':']\n",
    "    prev_state = sess.run(initial_state, {input_text: np.array([[1]])})\n",
    "\n",
    "    # Generate sentences\n",
    "    for n in range(gen_length):\n",
    "        # Dynamic Input\n",
    "        dyn_input = [[vocab_to_int[word] for word in gen_sentences[-seq_length:]]]\n",
    "        dyn_seq_length = len(dyn_input[0])\n",
    "\n",
    "        # Get Prediction\n",
    "        probabilities, prev_state = sess.run(\n",
    "            [probs, final_state],\n",
    "            {input_text: dyn_input, initial_state: prev_state})\n",
    "        \n",
    "        pred_word = pick_word(probabilities[dyn_seq_length-1], int_to_vocab)\n",
    "\n",
    "        gen_sentences.append(pred_word)\n",
    "    \n",
    "    # Remove tokens\n",
    "    tv_script = ' '.join(gen_sentences)\n",
    "    for key, token in token_dict.items():\n",
    "        ending = ' ' if key in ['\\n', '(', '\"'] else ''\n",
    "        tv_script = tv_script.replace(' ' + token.lower(), key)\n",
    "    tv_script = tv_script.replace('\\n ', '\\n')\n",
    "    tv_script = tv_script.replace('( ', '(')\n",
    "        \n",
    "    print(tv_script)"
   ]
  },
  {
   "cell_type": "markdown",
   "metadata": {
    "deletable": true,
    "editable": true
   },
   "source": [
    "# The TV Script is Nonsensical\n",
    "It's ok if the TV script doesn't make any sense.  We trained on less than a megabyte of text.  In order to get good results, you'll have to use a smaller vocabulary or get more data.  Luckly there's more data!  As we mentioned in the begging of this project, this is a subset of [another dataset](https://www.kaggle.com/wcukierski/the-simpsons-by-the-data).  We didn't have you train on all the data, because that would take too long.  However, you are free to train your neural network on all the data.  After you complete the project, of course.\n",
    "# Submitting This Project\n",
    "When submitting this project, make sure to run all the cells before saving the notebook. Save the notebook file as \"dlnd_tv_script_generation.ipynb\" and save it as a HTML file under \"File\" -> \"Download as\". Include the \"helper.py\" and \"problem_unittests.py\" files in your submission."
   ]
  }
 ],
 "metadata": {
  "kernelspec": {
   "display_name": "Python 3",
   "language": "python",
   "name": "python3"
  },
  "language_info": {
   "codemirror_mode": {
    "name": "ipython",
    "version": 3
   },
   "file_extension": ".py",
   "mimetype": "text/x-python",
   "name": "python",
   "nbconvert_exporter": "python",
   "pygments_lexer": "ipython3",
   "version": "3.5.2"
  },
  "widgets": {
   "state": {},
   "version": "1.1.2"
  }
 },
 "nbformat": 4,
 "nbformat_minor": 0
}
